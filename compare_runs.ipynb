{
 "cells": [
  {
   "cell_type": "code",
   "execution_count": 84,
   "metadata": {},
   "outputs": [],
   "source": [
    "import pandas as pd\n",
    "import numpy as np\n",
    "import matplotlib.pyplot as plt"
   ]
  },
  {
   "cell_type": "code",
   "execution_count": 137,
   "metadata": {},
   "outputs": [],
   "source": [
    "# get CVAPs for each precinct\n",
    "CD = \"CD\"\n",
    "SD = \"sldu172\"\n",
    "HD = \"sldl358\"\n",
    "cvap_df = pd.read_csv(\"TX_cvap_for_EI.csv\")\n",
    "cvap_cols = list(filter(lambda x:'CVAP_2012' in x, cvap_df.columns))\n",
    "cvap_cols += [\"X12G_President_CVAP\", CD, SD, HD]\n",
    "cvap_df = cvap_df[cvap_cols]\n",
    "\n",
    "# formatting functions...\n",
    "def change_col_name(string):\n",
    "    if '_counts' in string:\n",
    "        string = string.replace('_counts', '')\n",
    "    if 'abstain' in string:\n",
    "        string = string.replace('abstain_', 'X')\n",
    "        string += \"_abstain\"\n",
    "    return string\n",
    "def format_df(df):\n",
    "    winnowed_cols = list(filter(lambda x:'12G_President' in x, prec_counts1.columns))\n",
    "    old_winnowed_cols = winnowed_cols\n",
    "    winnowed_cols = list(map(change_col_name, winnowed_cols))\n",
    "    winnowed_cols\n",
    "    changeColsDict = dict(zip(old_winnowed_cols, winnowed_cols))\n",
    "    df = df.rename(columns=changeColsDict)\n",
    "    df = df[changeColsDict.values()]\n",
    "    for level in [CD, SD, HD]:\n",
    "        df[level] = cvap_df[level]\n",
    "    return df\n",
    "\n",
    "# comparison function\n",
    "def compare(df1, df2):\n",
    "    cols1 = df1.columns\n",
    "    cols2 = df2.columns\n",
    "    print(f'first df has {len(cols1)} columns') # how do I do the cooler thing...\n",
    "    print(f'second df has {len(cols2)} columns')\n",
    "    \n",
    "    cols = []\n",
    "    for col in cols1:\n",
    "        if col in cols2:\n",
    "            cols.append(col)\n",
    "    print(f'Comparing on {len(cols)} columns')\n",
    "    \n",
    "    zeros = np.zeros(shape=(len(df1), len(cols)))\n",
    "    compare_df_props = pd.DataFrame(zeros, columns=cols)\n",
    "#     compare_df_counts = compare_df_props\n",
    "    zeroBuffer = 0\n",
    "    for i in range(len(df1)):\n",
    "        i += 1 # groupby makes for 1-indexed\n",
    "        for col in cols:\n",
    "            diff = abs(df1[col][i] - df2[col][i]) \n",
    "            CVAP_TOT = col.split(\".\")[0]\n",
    "            CVAP_CAT_TOT = cvap_df.groupby(by=[HD]).sum()[CVAP_TOT][i]\n",
    "            if CVAP_CAT_TOT != 0:\n",
    "                pct_diff = diff / CVAP_CAT_TOT\n",
    "            else:\n",
    "                zeroBuffer += 1\n",
    "                pct_diff = 0\n",
    "#             compare_df_counts[col][i-1] = diff\n",
    "            compare_df_props[col][i-1] = pct_diff # off by one..\n",
    "    print(f'There were {zeroBuffer} instances of the buffer column = 0, set pct_diff=0 in each case')\n",
    "    return compare_df_props"
   ]
  },
  {
   "cell_type": "code",
   "execution_count": 148,
   "metadata": {},
   "outputs": [],
   "source": [
    "# load in two EI counts files to compare\n",
    "prec_counts1_path = \"gabe_EI_1.csv\"\n",
    "prec_counts2_path = \"gabe_EI_2.csv\"\n",
    "prec_counts3_path = \"Amy_EI_1.csv\"\n",
    "prec_counts1 = pd.read_csv(prec_counts1_path)\n",
    "# prec_counts1 = format_df(prec_counts1)\n",
    "prec_counts2 = pd.read_csv(prec_counts2_path)\n",
    "prec_counts3 = pd.read_csv(prec_counts3_path)\n",
    "\n",
    "# make dfs (grouped by some districting level) to compare\n",
    "df1 = prec_counts1.groupby(by=[HD]).sum()\n",
    "df2 = prec_counts2.groupby(by=[HD]).sum()\n",
    "df3 = prec_counts3.groupby(by=[HD]).sum()"
   ]
  },
  {
   "cell_type": "code",
   "execution_count": 149,
   "metadata": {},
   "outputs": [
    {
     "name": "stdout",
     "output_type": "stream",
     "text": [
      "df1 has 17 columns\n",
      "df2 has 17 columns\n",
      "Comparing on 17 columns\n",
      "There were 213 instances of the buffer column = 0, set pct_diff=0 in each case\n",
      "df1 has 17 columns\n",
      "df2 has 17 columns\n",
      "Comparing on 17 columns\n",
      "There were 213 instances of the buffer column = 0, set pct_diff=0 in each case\n",
      "df1 has 17 columns\n",
      "df2 has 17 columns\n",
      "Comparing on 17 columns\n",
      "There were 213 instances of the buffer column = 0, set pct_diff=0 in each case\n"
     ]
    }
   ],
   "source": [
    "df1v2 = compare(df1, df2)\n",
    "df1v3 = compare(df1, df3)\n",
    "df2v3 = compare(df2, df3)"
   ]
  },
  {
   "cell_type": "code",
   "execution_count": 150,
   "metadata": {},
   "outputs": [],
   "source": [
    "props1v2 = df1v2.values.flatten()\n",
    "props1v3 = df1v3.values.flatten()\n",
    "props2v3 = df2v3.values.flatten()"
   ]
  },
  {
   "cell_type": "code",
   "execution_count": 190,
   "metadata": {},
   "outputs": [
    {
     "data": {
      "image/png": "[encoded data removed]",
      "text/plain": [
       "<Figure size 432x576 with 3 Axes>"
      ]
     },
     "metadata": {
      "needs_background": "light"
     },
     "output_type": "display_data"
    }
   ],
   "source": [
    "# plt.title(\"Distribution of differences between gabe_1v2, normalized by CVAP\")\n",
    "fig, ax = plt.subplots(3,1, figsize=(6,8))\n",
    "fig.tight_layout(pad=3.0)\n",
    "data = [props1v2, props1v3, props2v3]\n",
    "titles = ['Gabe 1 vs Gabe 2','Gabe 1 vs Amy 1','Gabe 2 vs Amy 1']\n",
    "for i in range(3):\n",
    "    ax[i].set_title(titles[i])\n",
    "    ax[i].set_xlim(-0.001, 0.05)\n",
    "    ax[i].hist(data[i], bins=np.arange(0,0.06, 0.001))\n",
    "\n",
    "plt.show()"
   ]
  },
  {
   "cell_type": "code",
   "execution_count": 152,
   "metadata": {},
   "outputs": [
    {
     "data": {
      "image/png": "[encoded data removed]",
      "text/plain": [
       "<Figure size 576x288 with 1 Axes>"
      ]
     },
     "metadata": {
      "needs_background": "light"
     },
     "output_type": "display_data"
    }
   ],
   "source": [
    "fig, ax = plt.subplots(figsize=(8,4))\n",
    "ax.set_title(\"Distribution of differences between gabe_1vAmy1, normalized by CVAP\")\n",
    "ax.hist(props1v3)\n",
    "ax.set_xlim(-0.015, 0.32)\n",
    "plt.show()"
   ]
  },
  {
   "cell_type": "code",
   "execution_count": 153,
   "metadata": {},
   "outputs": [
    {
     "data": {
      "image/png": "[encoded data removed]",
      "text/plain": [
       "<Figure size 576x288 with 1 Axes>"
      ]
     },
     "metadata": {
      "needs_background": "light"
     },
     "output_type": "display_data"
    }
   ],
   "source": [
    "fig, ax = plt.subplots(figsize=(8,4))\n",
    "ax.set_title(\"Distribution of differences between gabe_2vAmy1, normalized by CVAP\")\n",
    "ax.hist(props2v3)\n",
    "# ax.set_xlim(-0.015, 0.32)\n",
    "plt.show()"
   ]
  },
  {
   "cell_type": "code",
   "execution_count": null,
   "metadata": {},
   "outputs": [],
   "source": []
  }
 ],
 "metadata": {
  "kernelspec": {
   "display_name": "Python 3",
   "language": "python",
   "name": "python3"
  },
  "language_info": {
   "codemirror_mode": {
    "name": "ipython",
    "version": 3
   },
   "file_extension": ".py",
   "mimetype": "text/x-python",
   "name": "python",
   "nbconvert_exporter": "python",
   "pygments_lexer": "ipython3",
   "version": "3.8.5"
  }
 },
 "nbformat": 4,
 "nbformat_minor": 4
}
