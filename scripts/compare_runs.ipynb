{
 "cells": [
  {
   "cell_type": "markdown",
   "metadata": {},
   "source": [
    "## Comparing counts from two EI runs\n",
    "This will try to compare how different two different EI runs were, putting any interesting dataframes and plots in the **../comparisons/** folder"
   ]
  },
  {
   "cell_type": "code",
   "execution_count": 2,
   "metadata": {},
   "outputs": [],
   "source": [
    "import pandas as pd\n",
    "import numpy as np\n",
    "import matplotlib.pyplot as plt"
   ]
  },
  {
   "cell_type": "code",
   "execution_count": 3,
   "metadata": {},
   "outputs": [],
   "source": [
    "# Path names: (eventually, abstract out to run #...)\n",
    "cvap_path = \"../resources/TX_cvap_for_EI.csv\"\n",
    "counts_path_1 = \"../counts/gabe_EI_1.csv\"\n",
    "counts_path_2 = \"../counts/gabe_EI_2.csv\"\n",
    "comparisons_path = \"../comparisons/\"\n",
    "\n",
    "# Districting level upon which to compare\n",
    "CD, SD, HD = [l for l in \"CD sldu172 sldl358\".split()]\n",
    "level = HD"
   ]
  },
  {
   "cell_type": "code",
   "execution_count": 4,
   "metadata": {},
   "outputs": [],
   "source": [
    "# Load in CVAP df\n",
    "cvap_df = pd.read_csv(cvap_path)\n",
    "cvap_cols = list(filter(lambda x:'CVAP_2012' in x, cvap_df.columns))\n",
    "cvap_cols += [\"X12G_President_CVAP\", CD, SD, HD]\n",
    "cvap_df = cvap_df[cvap_cols]\n",
    "\n",
    "# formatting functions...\n",
    "def change_col_name(string):\n",
    "    if '_counts' in string:\n",
    "        string = string.replace('_counts', '')\n",
    "    if 'abstain' in string:\n",
    "        string = string.replace('abstain_', 'X')\n",
    "        string += \"_abstain\"\n",
    "    return string\n",
    "def format_df(df):\n",
    "    winnowed_cols = list(filter(lambda x:'12G_President' in x, prec_counts1.columns))\n",
    "    old_winnowed_cols = winnowed_cols\n",
    "    winnowed_cols = list(map(change_col_name, winnowed_cols))\n",
    "    winnowed_cols\n",
    "    changeColsDict = dict(zip(old_winnowed_cols, winnowed_cols))\n",
    "    df = df.rename(columns=changeColsDict)\n",
    "    df = df[changeColsDict.values()]\n",
    "    for level in [CD, SD, HD]:\n",
    "        df[level] = cvap_df[level]\n",
    "    return df\n",
    "\n",
    "# comparison function\n",
    "def compare(df1, df2):\n",
    "    cols1 = df1.columns\n",
    "    cols2 = df2.columns\n",
    "    print(f'first df has {len(cols1)} columns') # how do I do the cooler thing...\n",
    "    print(f'second df has {len(cols2)} columns')\n",
    "    \n",
    "    cols = []\n",
    "    for col in cols1:\n",
    "        if col in cols2:\n",
    "            cols.append(col)\n",
    "    print(f'Comparing on {len(cols)} columns')\n",
    "    \n",
    "    zeros = np.zeros(shape=(len(df1), len(cols)))\n",
    "    compare_df_props = pd.DataFrame(zeros, columns=cols)\n",
    "#     compare_df_counts = compare_df_props\n",
    "    zeroBuffer = 0\n",
    "    for i in range(len(df1)):\n",
    "        i += 1 # groupby makes for 1-indexed\n",
    "        for col in cols:\n",
    "            diff = abs(df1[col][i] - df2[col][i]) \n",
    "            CVAP_TOT = col.split(\".\")[0]\n",
    "            CVAP_CAT_TOT = cvap_df.groupby(by=[HD]).sum()[CVAP_TOT][i]\n",
    "            if CVAP_CAT_TOT != 0:\n",
    "                pct_diff = diff / CVAP_CAT_TOT\n",
    "            else:\n",
    "                zeroBuffer += 1\n",
    "                pct_diff = 0\n",
    "#             compare_df_counts[col][i-1] = diff\n",
    "            compare_df_props[col][i-1] = pct_diff # off by one..\n",
    "    print(f'There were {zeroBuffer} instances of the buffer column = 0, set pct_diff=0 in each case')\n",
    "    return compare_df_props"
   ]
  },
  {
   "cell_type": "code",
   "execution_count": 5,
   "metadata": {},
   "outputs": [
    {
     "name": "stdout",
     "output_type": "stream",
     "text": [
      "first df has 17 columns\n",
      "second df has 17 columns\n",
      "Comparing on 17 columns\n",
      "There were 213 instances of the buffer column = 0, set pct_diff=0 in each case\n"
     ]
    }
   ],
   "source": [
    "# Read in counts and make dataframes to compare\n",
    "counts_1 = pd.read_csv(counts_path_1)\n",
    "counts_2 = pd.read_csv(counts_path_2)\n",
    "\n",
    "df1 = counts_1.groupby(by=[level]).sum()\n",
    "df2 = counts_2.groupby(by=[level]).sum()\n",
    "\n",
    "compare_df = compare(df1, df2)"
   ]
  },
  {
   "cell_type": "code",
   "execution_count": 6,
   "metadata": {},
   "outputs": [],
   "source": [
    "# Extract proportions to check out distribution\n",
    "proportions = compare_df.values.flatten()"
   ]
  },
  {
   "cell_type": "code",
   "execution_count": 7,
   "metadata": {},
   "outputs": [
    {
     "data": {
      "image/png": "[encoded data removed]",
      "text/plain": [
       "<Figure size 432x288 with 1 Axes>"
      ]
     },
     "metadata": {
      "needs_background": "light"
     },
     "output_type": "display_data"
    }
   ],
   "source": [
    "# plt.title(\"Distribution of differences between runs, normalized by CVAP\")\n",
    "fig, ax = plt.subplots(figsize=(6,4))\n",
    "fig.tight_layout(pad=3.0)\n",
    "data = [proportions]\n",
    "titles = ['Gabe 1 vs Gabe 2']\n",
    "for i in range(1):\n",
    "    ax.set_title(titles[i])\n",
    "    ax.set_xlim(-0.001, 0.05)\n",
    "    ax.hist(data[i], bins=np.arange(0,0.06, 0.001))\n",
    "\n",
    "plt.show()\n",
    "plt.savefig(compa)"
   ]
  },
  {
   "cell_type": "code",
   "execution_count": null,
   "metadata": {},
   "outputs": [],
   "source": []
  }
 ],
 "metadata": {
  "kernelspec": {
   "display_name": "Python 3",
   "language": "python",
   "name": "python3"
  },
  "language_info": {
   "codemirror_mode": {
    "name": "ipython",
    "version": 3
   },
   "file_extension": ".py",
   "mimetype": "text/x-python",
   "name": "python",
   "nbconvert_exporter": "python",
   "pygments_lexer": "ipython3",
   "version": "3.8.5"
  }
 },
 "nbformat": 4,
 "nbformat_minor": 4
}
